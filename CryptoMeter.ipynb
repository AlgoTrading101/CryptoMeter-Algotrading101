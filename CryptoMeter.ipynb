{
 "cells": [
  {
   "cell_type": "code",
   "execution_count": 1,
   "id": "a33d12d7",
   "metadata": {},
   "outputs": [],
   "source": [
    "import requests\n",
    "import pandas as pd\n",
    "\n",
    "api_key = '&api_key=DKFT2976ve1mk4w7lk9a8N6fnAkRxj8L56nzAT4G'\n",
    "url = 'https://api.cryptometer.io'"
   ]
  },
  {
   "cell_type": "markdown",
   "id": "12125115",
   "metadata": {},
   "source": [
    "# Market List"
   ]
  },
  {
   "cell_type": "code",
   "execution_count": 2,
   "id": "3023c957",
   "metadata": {},
   "outputs": [
    {
     "data": {
      "text/html": [
       "<div>\n",
       "<style scoped>\n",
       "    .dataframe tbody tr th:only-of-type {\n",
       "        vertical-align: middle;\n",
       "    }\n",
       "\n",
       "    .dataframe tbody tr th {\n",
       "        vertical-align: top;\n",
       "    }\n",
       "\n",
       "    .dataframe thead th {\n",
       "        text-align: right;\n",
       "    }\n",
       "</style>\n",
       "<table border=\"1\" class=\"dataframe\">\n",
       "  <thead>\n",
       "    <tr style=\"text-align: right;\">\n",
       "      <th></th>\n",
       "      <th>pair</th>\n",
       "      <th>market_pair</th>\n",
       "    </tr>\n",
       "  </thead>\n",
       "  <tbody>\n",
       "    <tr>\n",
       "      <th>1322</th>\n",
       "      <td>SLP-TRY</td>\n",
       "      <td>SLPTRY</td>\n",
       "    </tr>\n",
       "    <tr>\n",
       "      <th>1323</th>\n",
       "      <td>CHR-ETH</td>\n",
       "      <td>CHRETH</td>\n",
       "    </tr>\n",
       "    <tr>\n",
       "      <th>1324</th>\n",
       "      <td>LRC-TRY</td>\n",
       "      <td>LRCTRY</td>\n",
       "    </tr>\n",
       "    <tr>\n",
       "      <th>1325</th>\n",
       "      <td>FIS-TRY</td>\n",
       "      <td>FISTRY</td>\n",
       "    </tr>\n",
       "    <tr>\n",
       "      <th>1326</th>\n",
       "      <td>FIS-BIDR</td>\n",
       "      <td>FISBIDR</td>\n",
       "    </tr>\n",
       "  </tbody>\n",
       "</table>\n",
       "</div>"
      ],
      "text/plain": [
       "          pair market_pair\n",
       "1322   SLP-TRY      SLPTRY\n",
       "1323   CHR-ETH      CHRETH\n",
       "1324   LRC-TRY      LRCTRY\n",
       "1325   FIS-TRY      FISTRY\n",
       "1326  FIS-BIDR     FISBIDR"
      ]
     },
     "execution_count": 2,
     "metadata": {},
     "output_type": "execute_result"
    }
   ],
   "source": [
    "m_list = pd.DataFrame(requests.get(url+'/coinlist/?e=binance'+api_key).json()['data'])\n",
    "m_list.tail()"
   ]
  },
  {
   "cell_type": "markdown",
   "id": "788ad608",
   "metadata": {},
   "source": [
    "# Tickerlist"
   ]
  },
  {
   "cell_type": "code",
   "execution_count": 3,
   "id": "2cffcb43",
   "metadata": {},
   "outputs": [
    {
     "data": {
      "text/html": [
       "<div>\n",
       "<style scoped>\n",
       "    .dataframe tbody tr th:only-of-type {\n",
       "        vertical-align: middle;\n",
       "    }\n",
       "\n",
       "    .dataframe tbody tr th {\n",
       "        vertical-align: top;\n",
       "    }\n",
       "\n",
       "    .dataframe thead th {\n",
       "        text-align: right;\n",
       "    }\n",
       "</style>\n",
       "<table border=\"1\" class=\"dataframe\">\n",
       "  <thead>\n",
       "    <tr style=\"text-align: right;\">\n",
       "      <th></th>\n",
       "      <th>market_pair</th>\n",
       "      <th>last</th>\n",
       "      <th>high</th>\n",
       "      <th>low</th>\n",
       "      <th>volume_24</th>\n",
       "      <th>change_24h</th>\n",
       "      <th>change_1h</th>\n",
       "      <th>change_7days</th>\n",
       "    </tr>\n",
       "  </thead>\n",
       "  <tbody>\n",
       "    <tr>\n",
       "      <th>0</th>\n",
       "      <td>BTCUSDT</td>\n",
       "      <td>59438.9700</td>\n",
       "      <td>59625.0000</td>\n",
       "      <td>57353.0000</td>\n",
       "      <td>1.960885e+09</td>\n",
       "      <td>2.52</td>\n",
       "      <td>0.10</td>\n",
       "      <td>-7.60</td>\n",
       "    </tr>\n",
       "    <tr>\n",
       "      <th>1</th>\n",
       "      <td>ETHUSDT</td>\n",
       "      <td>4401.3300</td>\n",
       "      <td>4417.1400</td>\n",
       "      <td>4199.8600</td>\n",
       "      <td>1.548946e+09</td>\n",
       "      <td>2.50</td>\n",
       "      <td>0.19</td>\n",
       "      <td>-5.12</td>\n",
       "    </tr>\n",
       "    <tr>\n",
       "      <th>2</th>\n",
       "      <td>DOGEUSDT</td>\n",
       "      <td>0.2303</td>\n",
       "      <td>0.2357</td>\n",
       "      <td>0.2249</td>\n",
       "      <td>1.426093e+08</td>\n",
       "      <td>-1.16</td>\n",
       "      <td>0.00</td>\n",
       "      <td>-11.86</td>\n",
       "    </tr>\n",
       "    <tr>\n",
       "      <th>3</th>\n",
       "      <td>ADAUSDT</td>\n",
       "      <td>1.9040</td>\n",
       "      <td>1.9560</td>\n",
       "      <td>1.8520</td>\n",
       "      <td>2.432414e+08</td>\n",
       "      <td>1.76</td>\n",
       "      <td>-0.05</td>\n",
       "      <td>-7.17</td>\n",
       "    </tr>\n",
       "    <tr>\n",
       "      <th>4</th>\n",
       "      <td>XRPUSDT</td>\n",
       "      <td>1.0902</td>\n",
       "      <td>1.1015</td>\n",
       "      <td>1.0594</td>\n",
       "      <td>2.757647e+08</td>\n",
       "      <td>-0.09</td>\n",
       "      <td>0.00</td>\n",
       "      <td>-8.35</td>\n",
       "    </tr>\n",
       "  </tbody>\n",
       "</table>\n",
       "</div>"
      ],
      "text/plain": [
       "  market_pair        last        high         low     volume_24  change_24h  \\\n",
       "0     BTCUSDT  59438.9700  59625.0000  57353.0000  1.960885e+09        2.52   \n",
       "1     ETHUSDT   4401.3300   4417.1400   4199.8600  1.548946e+09        2.50   \n",
       "2    DOGEUSDT      0.2303      0.2357      0.2249  1.426093e+08       -1.16   \n",
       "3     ADAUSDT      1.9040      1.9560      1.8520  2.432414e+08        1.76   \n",
       "4     XRPUSDT      1.0902      1.1015      1.0594  2.757647e+08       -0.09   \n",
       "\n",
       "   change_1h  change_7days  \n",
       "0       0.10         -7.60  \n",
       "1       0.19         -5.12  \n",
       "2       0.00        -11.86  \n",
       "3      -0.05         -7.17  \n",
       "4       0.00         -8.35  "
      ]
     },
     "execution_count": 3,
     "metadata": {},
     "output_type": "execute_result"
    }
   ],
   "source": [
    "t_list = pd.DataFrame(requests.get(url+'/tickerlist/?e=binance'+api_key).json()['data'])\n",
    "t_list.head()"
   ]
  },
  {
   "cell_type": "markdown",
   "id": "9e3b945e",
   "metadata": {},
   "source": [
    "# Trend Indicators"
   ]
  },
  {
   "cell_type": "code",
   "execution_count": 4,
   "id": "379516f8",
   "metadata": {},
   "outputs": [
    {
     "data": {
      "text/plain": [
       "[{'trend_score': 46.91,\n",
       "  'buy_pressure': 53.61,\n",
       "  'sell_pressure': 46.39,\n",
       "  'timestamp': '2021-11-20T20:08:00.000Z'}]"
      ]
     },
     "execution_count": 4,
     "metadata": {},
     "output_type": "execute_result"
    }
   ],
   "source": [
    "requests.get(url+'/trend-indicator-v3/?'+api_key).json()['data']"
   ]
  },
  {
   "cell_type": "markdown",
   "id": "90d8b87d",
   "metadata": {},
   "source": [
    "# BTC liquidation data"
   ]
  },
  {
   "cell_type": "code",
   "execution_count": 5,
   "id": "9254c0ad",
   "metadata": {},
   "outputs": [
    {
     "data": {
      "text/plain": [
       "{'longs': 6135868.06021409, 'shorts': 12043600.40964196}"
      ]
     },
     "execution_count": 5,
     "metadata": {},
     "output_type": "execute_result"
    }
   ],
   "source": [
    "requests.get(url+'/liquidation-data/?'+api_key).json()['data']"
   ]
  },
  {
   "cell_type": "markdown",
   "id": "feee7f71",
   "metadata": {},
   "source": [
    "# Rapid movements"
   ]
  },
  {
   "cell_type": "code",
   "execution_count": 6,
   "id": "1b7d3ad8",
   "metadata": {},
   "outputs": [
    {
     "data": {
      "text/html": [
       "<div>\n",
       "<style scoped>\n",
       "    .dataframe tbody tr th:only-of-type {\n",
       "        vertical-align: middle;\n",
       "    }\n",
       "\n",
       "    .dataframe tbody tr th {\n",
       "        vertical-align: top;\n",
       "    }\n",
       "\n",
       "    .dataframe thead th {\n",
       "        text-align: right;\n",
       "    }\n",
       "</style>\n",
       "<table border=\"1\" class=\"dataframe\">\n",
       "  <thead>\n",
       "    <tr style=\"text-align: right;\">\n",
       "      <th></th>\n",
       "      <th>pair</th>\n",
       "      <th>exchange</th>\n",
       "      <th>change_detected</th>\n",
       "      <th>side</th>\n",
       "      <th>timestamp</th>\n",
       "    </tr>\n",
       "  </thead>\n",
       "  <tbody>\n",
       "    <tr>\n",
       "      <th>109</th>\n",
       "      <td>KEY-BTC</td>\n",
       "      <td>kucoin</td>\n",
       "      <td>34.62</td>\n",
       "      <td>PUMP</td>\n",
       "      <td>2021-11-20T19:00:00.000Z</td>\n",
       "    </tr>\n",
       "    <tr>\n",
       "      <th>489</th>\n",
       "      <td>LSK-BTC</td>\n",
       "      <td>kucoin</td>\n",
       "      <td>19.63</td>\n",
       "      <td>PUMP</td>\n",
       "      <td>2021-11-20T16:44:00.000Z</td>\n",
       "    </tr>\n",
       "    <tr>\n",
       "      <th>9</th>\n",
       "      <td>FIRO-BTC</td>\n",
       "      <td>bittrex</td>\n",
       "      <td>17.24</td>\n",
       "      <td>PUMP</td>\n",
       "      <td>2021-11-20T20:08:00.000Z</td>\n",
       "    </tr>\n",
       "    <tr>\n",
       "      <th>25</th>\n",
       "      <td>KEY-USDT</td>\n",
       "      <td>binance</td>\n",
       "      <td>15.78</td>\n",
       "      <td>PUMP</td>\n",
       "      <td>2021-11-20T20:00:00.000Z</td>\n",
       "    </tr>\n",
       "    <tr>\n",
       "      <th>498</th>\n",
       "      <td>ALEPH-USDT</td>\n",
       "      <td>kucoin</td>\n",
       "      <td>15.25</td>\n",
       "      <td>PUMP</td>\n",
       "      <td>2021-11-20T16:28:00.000Z</td>\n",
       "    </tr>\n",
       "  </tbody>\n",
       "</table>\n",
       "</div>"
      ],
      "text/plain": [
       "           pair exchange  change_detected  side                 timestamp\n",
       "109     KEY-BTC   kucoin            34.62  PUMP  2021-11-20T19:00:00.000Z\n",
       "489     LSK-BTC   kucoin            19.63  PUMP  2021-11-20T16:44:00.000Z\n",
       "9      FIRO-BTC  bittrex            17.24  PUMP  2021-11-20T20:08:00.000Z\n",
       "25     KEY-USDT  binance            15.78  PUMP  2021-11-20T20:00:00.000Z\n",
       "498  ALEPH-USDT   kucoin            15.25  PUMP  2021-11-20T16:28:00.000Z"
      ]
     },
     "execution_count": 6,
     "metadata": {},
     "output_type": "execute_result"
    }
   ],
   "source": [
    "rapids = pd.DataFrame(requests.get(url+'/rapid-movements/?'+api_key).json()['data'])\n",
    "rapids.sort_values(by='change_detected', ascending=False, inplace=True)\n",
    "rapids.head()"
   ]
  },
  {
   "cell_type": "markdown",
   "id": "7a12c8b2",
   "metadata": {},
   "source": [
    "# Long/Shorts"
   ]
  },
  {
   "cell_type": "code",
   "execution_count": 7,
   "id": "d6b7beb2",
   "metadata": {},
   "outputs": [
    {
     "data": {
      "text/plain": [
       "[{'longs': 16594767,\n",
       "  'shorts': 19330833,\n",
       "  'timestamp': '2021-11-20T00:00:00.000Z'}]"
      ]
     },
     "execution_count": 7,
     "metadata": {},
     "output_type": "execute_result"
    }
   ],
   "source": [
    "requests.get(url+'/current-day-long-short-v2/?e=ftx&symbol=ftm'+api_key).json()['data']"
   ]
  },
  {
   "cell_type": "markdown",
   "id": "ddc90f39",
   "metadata": {},
   "source": [
    "# Open Interest"
   ]
  },
  {
   "cell_type": "code",
   "execution_count": 8,
   "id": "f388308c",
   "metadata": {},
   "outputs": [
    {
     "data": {
      "text/plain": [
       "[{'open_interest': 469026338.95}]"
      ]
     },
     "execution_count": 8,
     "metadata": {},
     "output_type": "execute_result"
    }
   ],
   "source": [
    "requests.get(url+'/open-interest/?market_pair=xbtusd&e=bitmex'+api_key).json()['data']"
   ]
  },
  {
   "cell_type": "markdown",
   "id": "cc4c329a",
   "metadata": {},
   "source": [
    "# Aggregated Orderbook"
   ]
  },
  {
   "cell_type": "code",
   "execution_count": 9,
   "id": "ce681ea3",
   "metadata": {},
   "outputs": [
    {
     "data": {
      "text/plain": [
       "[{'symbol': 'BTC', 'bids': 566.33, 'asks': 429.43}]"
      ]
     },
     "execution_count": 9,
     "metadata": {},
     "output_type": "execute_result"
    }
   ],
   "source": [
    "requests.get(url+'/merged-orderbook/?'+api_key).json()['data']"
   ]
  },
  {
   "cell_type": "markdown",
   "id": "43a644bd",
   "metadata": {},
   "source": [
    "# BitMEX Liquidation Data"
   ]
  },
  {
   "cell_type": "code",
   "execution_count": 10,
   "id": "ee2f9a4d",
   "metadata": {},
   "outputs": [
    {
     "data": {
      "text/html": [
       "<div>\n",
       "<style scoped>\n",
       "    .dataframe tbody tr th:only-of-type {\n",
       "        vertical-align: middle;\n",
       "    }\n",
       "\n",
       "    .dataframe tbody tr th {\n",
       "        vertical-align: top;\n",
       "    }\n",
       "\n",
       "    .dataframe thead th {\n",
       "        text-align: right;\n",
       "    }\n",
       "</style>\n",
       "<table border=\"1\" class=\"dataframe\">\n",
       "  <thead>\n",
       "    <tr style=\"text-align: right;\">\n",
       "      <th></th>\n",
       "      <th>market_pair</th>\n",
       "      <th>quantity</th>\n",
       "      <th>side</th>\n",
       "      <th>timestamp</th>\n",
       "    </tr>\n",
       "  </thead>\n",
       "  <tbody>\n",
       "    <tr>\n",
       "      <th>2</th>\n",
       "      <td>ETHUSD</td>\n",
       "      <td>262</td>\n",
       "      <td>SELL</td>\n",
       "      <td>2021-11-20T18:45:46.000Z</td>\n",
       "    </tr>\n",
       "    <tr>\n",
       "      <th>10</th>\n",
       "      <td>ETHUSD</td>\n",
       "      <td>55</td>\n",
       "      <td>SELL</td>\n",
       "      <td>2021-11-20T18:24:01.000Z</td>\n",
       "    </tr>\n",
       "    <tr>\n",
       "      <th>3</th>\n",
       "      <td>ETHUSD</td>\n",
       "      <td>50</td>\n",
       "      <td>SELL</td>\n",
       "      <td>2021-11-20T18:30:16.000Z</td>\n",
       "    </tr>\n",
       "    <tr>\n",
       "      <th>7</th>\n",
       "      <td>ETHUSD</td>\n",
       "      <td>50</td>\n",
       "      <td>SELL</td>\n",
       "      <td>2021-11-20T18:26:18.000Z</td>\n",
       "    </tr>\n",
       "    <tr>\n",
       "      <th>1</th>\n",
       "      <td>ETHUSD</td>\n",
       "      <td>35</td>\n",
       "      <td>SELL</td>\n",
       "      <td>2021-11-20T19:53:01.000Z</td>\n",
       "    </tr>\n",
       "  </tbody>\n",
       "</table>\n",
       "</div>"
      ],
      "text/plain": [
       "   market_pair  quantity  side                 timestamp\n",
       "2       ETHUSD       262  SELL  2021-11-20T18:45:46.000Z\n",
       "10      ETHUSD        55  SELL  2021-11-20T18:24:01.000Z\n",
       "3       ETHUSD        50  SELL  2021-11-20T18:30:16.000Z\n",
       "7       ETHUSD        50  SELL  2021-11-20T18:26:18.000Z\n",
       "1       ETHUSD        35  SELL  2021-11-20T19:53:01.000Z"
      ]
     },
     "execution_count": 10,
     "metadata": {},
     "output_type": "execute_result"
    }
   ],
   "source": [
    "liquidation = pd.DataFrame(requests.get(url+'/bitmex-liquidation/?market_pair=ethusd'+api_key).json()['data'])\n",
    "liquidation.sort_values(by='quantity', ascending=False, inplace=True)\n",
    "liquidation.head()"
   ]
  }
 ],
 "metadata": {
  "kernelspec": {
   "display_name": "Python 3 (ipykernel)",
   "language": "python",
   "name": "python3"
  },
  "language_info": {
   "codemirror_mode": {
    "name": "ipython",
    "version": 3
   },
   "file_extension": ".py",
   "mimetype": "text/x-python",
   "name": "python",
   "nbconvert_exporter": "python",
   "pygments_lexer": "ipython3",
   "version": "3.8.8"
  }
 },
 "nbformat": 4,
 "nbformat_minor": 5
}
